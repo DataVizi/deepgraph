{
 "cells": [
  {
   "cell_type": "markdown",
   "metadata": {},
   "source": [
    "# Building a DeepGraph of Precipitation Events"
   ]
  },
  {
   "cell_type": "markdown",
   "metadata": {},
   "source": [
    "THIS IS WORK IN PROGRESS!!\n",
    "\n",
    "This is a short introduction to DeepGraph. In the following, we build a deep graph of extreme precipitation events, as described in [ref].\n",
    "\n",
    "First of all, we need to import some packages"
   ]
  },
  {
   "cell_type": "code",
   "execution_count": 1,
   "metadata": {
    "collapsed": false
   },
   "outputs": [],
   "source": [
    "%matplotlib inline\n",
    "\n",
    "import numpy as np\n",
    "import pandas as pd\n",
    "\n",
    "import deepgraph as dg"
   ]
  },
  {
   "cell_type": "markdown",
   "metadata": {},
   "source": [
    "## The Nodes of a Graph"
   ]
  },
  {
   "cell_type": "markdown",
   "metadata": {},
   "source": [
    "Then, we need a pd.DataFrame object `v` representing the node set $V$ of the graph $G = (V, E)$. Each row of `v` represents a **node** $V_i \\in V$, each column name of `v` corresponds to a **type of feature** of the nodes, and each cell in `v` represents a **feature**."
   ]
  },
  {
   "cell_type": "code",
   "execution_count": 2,
   "metadata": {
    "collapsed": false
   },
   "outputs": [],
   "source": [
    "v = pd.read_pickle('./data/precipitation/v.pickle')"
   ]
  },
  {
   "cell_type": "markdown",
   "metadata": {},
   "source": [
    "The nodes look like this"
   ]
  },
  {
   "cell_type": "code",
   "execution_count": 3,
   "metadata": {
    "collapsed": false
   },
   "outputs": [
    {
     "name": "stdout",
     "output_type": "stream",
     "text": [
      "   time    r  area   vol     lat     lon      dtime\n",
      "0     0  148   744  3304  14.875 -68.375 1998-01-01\n",
      "1     0  161   744  3594  14.875 -68.125 1998-01-01\n",
      "2     0  127   744  2835  14.875 -50.125 1998-01-01\n",
      "3     0   34   745   760  14.375 -52.125 1998-01-01\n",
      "4     0   76   746  1702  14.125 -52.625 1998-01-01\n"
     ]
    }
   ],
   "source": [
    "print(v.head())"
   ]
  },
  {
   "cell_type": "markdown",
   "metadata": {},
   "source": [
    "In order to create edges between these nodes, we now create a `dg.DeepGraph` instance"
   ]
  },
  {
   "cell_type": "code",
   "execution_count": 4,
   "metadata": {
    "collapsed": false
   },
   "outputs": [],
   "source": [
    "g = dg.DeepGraph(v, supernode_labels_by={'x': 'lon', 'y': 'lat', 'g_id': ['lon', 'lat']})"
   ]
  },
  {
   "cell_type": "markdown",
   "metadata": {},
   "source": [
    "where we use the optional argument `supernode_labels_by` to create **supernode labels** (which are categorical **features**) enumerating latitude/longitude coordinates and geographical locations. The new node table, which now is an attribute of `g`, therefore looks like"
   ]
  },
  {
   "cell_type": "code",
   "execution_count": 5,
   "metadata": {
    "collapsed": false
   },
   "outputs": [
    {
     "name": "stdout",
     "output_type": "stream",
     "text": [
      "   time    r  area   vol     lat     lon      dtime    x    y   g_id\n",
      "0     0  148   744  3304  14.875 -68.375 1998-01-01   66  219   9701\n",
      "1     0  161   744  3594  14.875 -68.125 1998-01-01   67  219   9887\n",
      "2     0  127   744  2835  14.875 -50.125 1998-01-01  139  219  25048\n",
      "3     0   34   745   760  14.375 -52.125 1998-01-01  131  217  23312\n",
      "4     0   76   746  1702  14.125 -52.625 1998-01-01  129  216  22872\n"
     ]
    }
   ],
   "source": [
    "print(g.v.head())"
   ]
  },
  {
   "cell_type": "markdown",
   "metadata": {},
   "source": [
    "## The Edges of a Graph"
   ]
  },
  {
   "cell_type": "markdown",
   "metadata": {},
   "source": [
    "The edge set $E$ of $G = (V, E)$ is also represented by a `pd.DataFrame` object, which we denote by `e`. Its index is a `pd.core.index.MultiIndex`, whose first level contains the indices of the **source nodes**, and the second level contains the indices of the **target nodes**. Each row of `e` corresponds to an **edge** $E_{ij} \\in E$, each column name of `e` corresponds to a **type of relation**, and each cell in `e` represents a **relation**.\n",
    "\n",
    "We now use DeepGraph to create edges between the nodes given by `v`. For that matter, we need a **connector** function, which takes  "
   ]
  },
  {
   "cell_type": "code",
   "execution_count": null,
   "metadata": {
    "collapsed": false
   },
   "outputs": [],
   "source": []
  },
  {
   "cell_type": "code",
   "execution_count": null,
   "metadata": {
    "collapsed": true
   },
   "outputs": [],
   "source": []
  },
  {
   "cell_type": "code",
   "execution_count": null,
   "metadata": {
    "collapsed": true
   },
   "outputs": [],
   "source": []
  }
 ],
 "metadata": {
  "kernelspec": {
   "display_name": "Python 3",
   "language": "python",
   "name": "python3"
  },
  "language_info": {
   "codemirror_mode": {
    "name": "ipython",
    "version": 3
   },
   "file_extension": ".py",
   "mimetype": "text/x-python",
   "name": "python",
   "nbconvert_exporter": "python",
   "pygments_lexer": "ipython3",
   "version": "3.5.1"
  }
 },
 "nbformat": 4,
 "nbformat_minor": 0
}
